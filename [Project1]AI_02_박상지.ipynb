{
  "nbformat": 4,
  "nbformat_minor": 0,
  "metadata": {
    "colab": {
      "name": "[Project1]AI_02_박상지.ipynb",
      "provenance": [],
      "collapsed_sections": [],
      "authorship_tag": "ABX9TyOH2y5cTa/zmnBFSGmgeqtk",
      "include_colab_link": true
    },
    "kernelspec": {
      "name": "python3",
      "display_name": "Python 3"
    },
    "language_info": {
      "name": "python"
    },
    "accelerator": "GPU"
  },
  "cells": [
    {
      "cell_type": "markdown",
      "metadata": {
        "id": "view-in-github",
        "colab_type": "text"
      },
      "source": [
        "<a href=\"https://colab.research.google.com/github/SANGJI-PARK/Codestates-Project1/blob/main/%5BProject1%5DAI_02_%EB%B0%95%EC%83%81%EC%A7%80.ipynb\" target=\"_parent\"><img src=\"https://colab.research.google.com/assets/colab-badge.svg\" alt=\"Open In Colab\"/></a>"
      ]
    },
    {
      "cell_type": "markdown",
      "metadata": {
        "id": "Qptoe7UFiPxM"
      },
      "source": [
        "# **Project 1**\n",
        "# **피부의 악성/양성 종양 분류 모델 생성**\n",
        "### **AI 02 박상지**\n",
        "\n",
        "#### 본 프로젝트에서는 section4의 프로젝트 기반에 피드백을 반영하여 더 발전된 모델을 만들고자 함.\n",
        "---"
      ]
    },
    {
      "cell_type": "markdown",
      "metadata": {
        "id": "SBGnY-10iUYT"
      },
      "source": [
        "## **Data Description**\n",
        "\n",
        "* 데이터 \n",
        "  * 피부 종양의 종류별 피부 촬영 이미지\n",
        "\n",
        "* 종양의 종류\n",
        "  * **양성 종양** : 비교적 서서히 성장하며 신체 여러 부위에 **확산, 전이하지 않으며 제거하여 치유시킬 수 있는** 종양을 말합니다.\n",
        "  * **악성 종양(암)** : 빠른 성장과 침윤성(파고들거나 퍼져나감) 성장 및 체내 각 부위에 확산, 전이(원래 장소에서 떨어진 곳까지 이동함)하여 **생명에 위험을 초래하는 종양**.\n",
        "\n",
        "<br>\n",
        "\n",
        "* 데이터 구조 : train, validation, test 데이터가 각각 **9개**의 클래스를 가지고 있음\n",
        "\n",
        "* 클래스\n",
        "  * **seborrheic keratosis(지루성 각화증)** : 일명 검버섯, 피부의 **양성** 표피 종양이며 치료를 요하는 질환은 아니다.\n",
        "  \n",
        "   <img src='https://drive.google.com/uc?id=16wtpyYRWDhCVWgUDOpanDHqy1RypHLTn' width=\"200\"/>\n",
        "  * **pigmented benign keratosis(색소 양성 각화증)** : **양성** 표피 종양이다.\n",
        "\n",
        "   <img src='https://drive.google.com/uc?id=13CE9eTZU-YSdJnsn46Ngub7VtoraF7fq' width=\"200\"/>\n",
        "\n",
        "  * **vascular lesion(선천성 모반)** : 선천적으로 태어날때부터 혹은 태어나고 발생하는 모반으로, **양성 종양**이다. 크게 혈관종(Hemangiomas), 혈관 기형(Vascular Malformations), 화농성육아종(Pyogenic Granuloma)로 구분된다.\n",
        "\n",
        "   <img src='https://drive.google.com/uc?id=1jK6qSFVfH0I-J1xDXZXhrHDSBEr-5kTU' width=\"200\"/>\n",
        " \n",
        " * **dermatofibroma(피부섬유종)** : 섬유성 결합조직으로 구성되는 **양성종양**이다.\n",
        "\n",
        "   <img src='https://drive.google.com/uc?id=1ItuognqhUQ9AaFxSwseqjcPyu2KrRoUM' width=\"200\"/>\n",
        " * **nevus(반점)** : 피부에 나타나는 반점으로, 종류가 다양하며 일부는 피부암의 **전암성** 병터가 되기도 한다. (출처 : 네이버 생명과학대사전)\n",
        "\n",
        "   <img src='https://drive.google.com/uc?id=1mmU6aT9xwvJsBpEZS0nMSBZ_MaJiUm-5' width=\"200\"/>\n",
        " * **actinic keratosis(광선각화증)** : 지속적인 햇빛이나 인공 광원 노출로 피부에 잘 발생하는 전암 질환이다. 오랜 기간이 지난 후 **편평세포암으로 이행할 수 있다.**\n",
        "\n",
        "   <img src='https://drive.google.com/uc?id=1OLx97VMbgU4HbcfhZLQXua0j7P_qKlgV' width=\"200\"/>\n",
        " * **basal cell carcinoma(기저세포암)** : 피부에 발생하는 원발성 **악성종양**이다. 일반적으로 태양 광선에 오랜 기간 노출된 부위에 많이 발생하며, 얼굴 중 특히 눈꺼풀, 코 둘레에 잘 발생한다.\n",
        "\n",
        "   <img src='https://drive.google.com/uc?id=1cHeGTEmBFDHTZbidY77qIyf7_X4J3Z8e' width=\"200\"/>\n",
        " * **melanoma(악성 흑색종)** : 멜라닌 색소를 만들어 내는 멜라닌 세포의 악성화로 생기는 **피부암(악성종양)**이다.\n",
        "\n",
        "   <img src='https://drive.google.com/uc?id=11xSzRnA5caGZSg9zjvZtVUSOJHzijyJ9' width=\"200\"/>\n",
        " * **squamous cell carcinoma(편평상피암)** : 편평상피세포에서 발생하는 **악성 종양**\n",
        "\n",
        "   <img src='https://drive.google.com/uc?id=1TDYOmxHb39_cPC34rgRRyo3X7q7TjJef' width=\"200\"/>"
      ]
    },
    {
      "cell_type": "markdown",
      "metadata": {
        "id": "i52DeIokBT1z"
      },
      "source": [
        "## **Project Description**\n",
        "* 모델 목적\n",
        "  * 육안으로 구분하기 힘든 피부의 양성종양과 악성종양을 구분해냄으로써 빠르고 정확환 치료를 하기 위함이다.\n",
        "  * 특히 악성종양으로 발전할 수 있는 가능성이 있는 암들은 더욱 구분하기 어려우므로 이러한 경우에 더욱 사용 의의가 있다.\n",
        "\n",
        "<br>\n",
        "\n",
        "* 분석 모델 : **CNN(Convolutional Neural Network)**\n",
        "  * 본 분석에서는 이미지 데이터를 사용하기 때문에 이미지 공간의 유실을 최소화 할 수 있으며 특징 추출 및 학습이 효율적인 CNN 모델 사용\n",
        "  * 각 레이어의 입출력 데이터 형상을 유지하며 인접 이미지와의 특징을 효과적으로 인식\n",
        "  * 추출한 이미지의 특징을 모으고 강화하는 Pooling layer\n",
        "  * 필터 공유로 인하여 일반 인공 신경망보다 학습 파라미터가 적기 때문에 효율적인 분석 진행 가능\n",
        "\n",
        "\n",
        "* 분석 절차\n",
        " 1. 데이터 증강 및 전처리\n",
        " 2. 딥러닝 모델 생성\n",
        " 3. 파라미터 튜닝\n",
        " 4. 교차 검증\n",
        " 5. 결과 시각화 및 해석\n",
        " 6. 결론\n",
        " 7. 한계점"
      ]
    },
    {
      "cell_type": "code",
      "metadata": {
        "id": "wfuiTLusUVoE",
        "cellView": "form"
      },
      "source": [
        "#@title\n",
        "from google.colab import drive\n",
        "drive.mount('/content/drive')"
      ],
      "execution_count": null,
      "outputs": []
    },
    {
      "cell_type": "code",
      "metadata": {
        "id": "6Syt2XhyUWIu",
        "cellView": "form"
      },
      "source": [
        "#@title\n",
        "import numpy as np\n",
        "import random\n",
        "import tensorflow as tf\n",
        "import keras_preprocessing\n",
        "from keras_preprocessing import image\n",
        "from keras_preprocessing.image import ImageDataGenerator\n",
        "import matplotlib.pyplot as plt"
      ],
      "execution_count": 2,
      "outputs": []
    },
    {
      "cell_type": "markdown",
      "metadata": {
        "id": "vPmjkuvnL84f"
      },
      "source": [
        "#### **1. 데이터 증강 및 전처리 - ImageDataGenerator 사용**"
      ]
    },
    {
      "cell_type": "code",
      "metadata": {
        "colab": {
          "base_uri": "https://localhost:8080/"
        },
        "id": "swA9B_e6ck6Y",
        "outputId": "2a22a532-cb7b-498f-9361-b0f38e8ef061"
      },
      "source": [
        "# Training Data\n",
        "TRAINING_DIR = \"/content/drive/MyDrive/Study/AI Bootcamp/data/[Project1]Skin cancer ISIC The International Skin Imaging Collaboration/Train\"\n",
        "training_datagen = ImageDataGenerator(rescale = 1./255, # 이미지 크기 조정 (정규화)\n",
        "                                   validation_split = 0.2,  \n",
        "                                   rotation_range=5, # 0도와 5도 사이의 랜덤한 각도로 회전\n",
        "                                   width_shift_range=0.2, # 수평으로 랜덤 이동\n",
        "                                   height_shift_range=0.2, # 수직으로 랜덤 이동\n",
        "                                   shear_range=0.2, # 시계 반대 방향으로 변형\n",
        "                                   zoom_range=0.2, # 확대/축소\n",
        "                                   horizontal_flip=True, # 수평으로 뒤집기\n",
        "                                   fill_mode='nearest') # 생성되는 빈 공간을 가장 가까운 색으로 채우기\n",
        "\n",
        "train_generator = training_datagen.flow_from_directory(\n",
        "    TRAINING_DIR,\n",
        "    target_size=(224,224),\n",
        "    class_mode='categorical', # 다중 클래스\n",
        "    batch_size = 64\n",
        ")\n",
        "\n",
        "# Validation Data\n",
        "VALIDATION_DIR = \"/content/drive/MyDrive/Study/AI Bootcamp/data/[Project1]Skin cancer ISIC The International Skin Imaging Collaboration/Validation\"\n",
        "validation_datagen = ImageDataGenerator(rescale = 1./255)\n",
        "\n",
        "validation_generator = validation_datagen.flow_from_directory(\n",
        "    VALIDATION_DIR,\n",
        "    target_size=(224,224),\n",
        "    class_mode='categorical',\n",
        "    batch_size= 64\n",
        ")\n",
        "\n",
        "# Test Data\n",
        "TEST_DIR = \"/content/drive/MyDrive/Study/AI Bootcamp/data/[Project1]Skin cancer ISIC The International Skin Imaging Collaboration/Test\"\n",
        "test_datagen  = ImageDataGenerator(rescale = 1./255)\n",
        "\n",
        "test_generator = test_datagen.flow_from_directory(\n",
        "    TEST_DIR,\n",
        "    target_size=(224,224),\n",
        "    class_mode='categorical',\n",
        "    batch_size= 64\n",
        ")"
      ],
      "execution_count": 3,
      "outputs": [
        {
          "output_type": "stream",
          "text": [
            "Found 1760 images belonging to 9 classes.\n",
            "Found 444 images belonging to 9 classes.\n",
            "Found 118 images belonging to 9 classes.\n"
          ],
          "name": "stdout"
        }
      ]
    },
    {
      "cell_type": "markdown",
      "metadata": {
        "id": "-7TZjGWhPJv0"
      },
      "source": [
        "#### **2. 모델 생성**"
      ]
    },
    {
      "cell_type": "code",
      "metadata": {
        "id": "yMVO8rgwdF_k",
        "cellView": "form"
      },
      "source": [
        "#@title\n",
        "from tensorflow.keras.optimizers import Adam\n",
        "model_base = tf.keras.models.Sequential([\n",
        "    tf.keras.layers.Conv2D(16, (3,3), activation='relu'),\n",
        "    tf.keras.layers.MaxPooling2D(2,2),\n",
        "    tf.keras.layers.Conv2D(32, (3,3), activation='relu'),\n",
        "    tf.keras.layers.MaxPooling2D(2,2),\n",
        "    tf.keras.layers.Conv2D(64, (3,3), activation='relu'),\n",
        "    tf.keras.layers.MaxPooling2D(2,2),\n",
        "    tf.keras.layers.Flatten(),\n",
        "    tf.keras.layers.Dense(1024, activation='relu'),\n",
        "    tf.keras.layers.Dense(9, activation='softmax')\n",
        "])\n",
        "model_base.compile(loss='categorical_crossentropy',\n",
        "    optimizer= Adam(learning_rate=0.001),\n",
        "    metrics=['acc'])"
      ],
      "execution_count": 22,
      "outputs": []
    },
    {
      "cell_type": "code",
      "metadata": {
        "colab": {
          "base_uri": "https://localhost:8080/"
        },
        "id": "J3_hSDhse_qt",
        "outputId": "068335db-aeeb-45cd-d81a-8b4cbdee9d99"
      },
      "source": [
        "from tensorflow.keras.callbacks import EarlyStopping\n",
        "\n",
        "history = model_base.fit(\n",
        "    train_generator,\n",
        "    validation_data = validation_generator,\n",
        "    epochs = 30,\n",
        "    batch_size = 32,\n",
        "    verbose = 1,\n",
        "    callbacks=EarlyStopping(monitor='val_loss', verbose=1, patience=5)\n",
        ")"
      ],
      "execution_count": 24,
      "outputs": [
        {
          "output_type": "stream",
          "text": [
            "Epoch 1/30\n",
            "28/28 [==============================] - 49s 2s/step - loss: 3.3538 - acc: 0.2199 - val_loss: 1.8762 - val_acc: 0.3221\n",
            "Epoch 2/30\n",
            "28/28 [==============================] - 49s 2s/step - loss: 1.7743 - acc: 0.3386 - val_loss: 2.1178 - val_acc: 0.3153\n",
            "Epoch 3/30\n",
            "28/28 [==============================] - 49s 2s/step - loss: 1.5907 - acc: 0.4045 - val_loss: 1.9275 - val_acc: 0.3896\n",
            "Epoch 4/30\n",
            "28/28 [==============================] - 48s 2s/step - loss: 1.5760 - acc: 0.4330 - val_loss: 1.7069 - val_acc: 0.4437\n",
            "Epoch 5/30\n",
            "28/28 [==============================] - 49s 2s/step - loss: 1.4525 - acc: 0.4835 - val_loss: 1.7157 - val_acc: 0.4662\n",
            "Epoch 6/30\n",
            "28/28 [==============================] - 48s 2s/step - loss: 1.4057 - acc: 0.5028 - val_loss: 1.7519 - val_acc: 0.4437\n",
            "Epoch 7/30\n",
            "28/28 [==============================] - 47s 2s/step - loss: 1.3383 - acc: 0.5091 - val_loss: 1.8816 - val_acc: 0.4392\n",
            "Epoch 8/30\n",
            "28/28 [==============================] - 48s 2s/step - loss: 1.3875 - acc: 0.5210 - val_loss: 1.7994 - val_acc: 0.4369\n",
            "Epoch 9/30\n",
            "28/28 [==============================] - 48s 2s/step - loss: 1.3319 - acc: 0.5182 - val_loss: 1.7700 - val_acc: 0.4550\n",
            "Epoch 00009: early stopping\n"
          ],
          "name": "stdout"
        }
      ]
    },
    {
      "cell_type": "markdown",
      "metadata": {
        "id": "VeYhMtU3wfiw"
      },
      "source": [
        "    Validation Accuracy(검증 정확도) : 45.50%"
      ]
    },
    {
      "cell_type": "markdown",
      "metadata": {
        "id": "PM65AYcZPQw7"
      },
      "source": [
        "#### **3. 파라미터 튜닝**"
      ]
    },
    {
      "cell_type": "markdown",
      "metadata": {
        "id": "-xgMGo1NmeJn"
      },
      "source": [
        "#### 하이퍼 파라미터 튜닝 - Kerastuner 라이브러리의 Randomsearch\n",
        "\n",
        "- 첫번째 Conv2D의 필터 수 : L1_NUM_FILTERS\n",
        "- 두번째 Conv2D의 필터 수 : L2_NUM_FILTERS\n",
        "- 세번째 Conv2D의 필터 수 : L3_NUM_FILTERS\n",
        "- Dense 레이어의 출력뉴런 수 : NUM_DIMS\n",
        "- 최적화기의 학습률 : LR"
      ]
    },
    {
      "cell_type": "code",
      "metadata": {
        "cellView": "form",
        "id": "mo1Xeu5VwdeI"
      },
      "source": [
        "#@title\n",
        "!pip install -U keras-tuner\n",
        "import kerastuner as kt"
      ],
      "execution_count": 6,
      "outputs": []
    },
    {
      "cell_type": "code",
      "metadata": {
        "cellView": "form",
        "id": "mdKmHXcuogNb"
      },
      "source": [
        "#@title\n",
        "# 튜닝\n",
        "def model_fn(hp):\n",
        "\n",
        "    L1_NUM_FILTERS = hp.Int('L1_NUM_FILTERS', min_value = 13, max_value = 64, step = 16)\n",
        "    L1_NUM_KERNELS =[3,5]\n",
        "    L2_NUM_FILTERS = hp.Int('L2_NUM_FILTERS', min_value = 16, max_value = 64, step = 16)\n",
        "    L2_NUM_KERNELS =[3,5]\n",
        "    L3_NUM_FILTERS = hp.Int('L3_NUM_FILTERS', min_value = 16, max_value = 64, step = 16)\n",
        "    L3_NUM_KERNELS =[3,5]\n",
        "    NUM_DIMS = hp.Int('NUM_DIMS', min_value = 32, max_value = 128, step = 32)\n",
        "    LR = hp.Choice('learning_rate', values = [1e-2, 1e-3, 1e-4]) \n",
        "\n",
        "    model_tuner = tf.keras.models.Sequential([\n",
        "    tf.keras.layers.Conv2D(L1_NUM_FILTERS, kernel_size=L1_NUM_KERNELS, activation='relu'),\n",
        "    tf.keras.layers.MaxPooling2D(2,2),\n",
        "    tf.keras.layers.Conv2D(L2_NUM_FILTERS, kernel_size=L2_NUM_KERNELS, activation='relu'),\n",
        "    tf.keras.layers.MaxPooling2D(2,2),\n",
        "    tf.keras.layers.Conv2D(L3_NUM_FILTERS, kernel_size=L3_NUM_KERNELS, activation='relu'),\n",
        "    tf.keras.layers.MaxPooling2D(2,2),\n",
        "    tf.keras.layers.Flatten(),\n",
        "    tf.keras.layers.Dense(NUM_DIMS, activation='relu'),\n",
        "    tf.keras.layers.Dense(9, activation='softmax')])\n",
        "\n",
        "    model_tuner.compile(loss='categorical_crossentropy',\n",
        "        optimizer= Adam(LR),\n",
        "        metrics=['acc'])\n",
        "\n",
        "    return model"
      ],
      "execution_count": 7,
      "outputs": []
    },
    {
      "cell_type": "code",
      "metadata": {
        "cellView": "form",
        "id": "dB2KrmjUuGW2"
      },
      "source": [
        "#@title\n",
        "tuner = kt.RandomSearch(model_fn, \n",
        "              objective = 'val_acc',\n",
        "              max_trials = 10,\n",
        "              overwrite=True)     "
      ],
      "execution_count": 8,
      "outputs": []
    },
    {
      "cell_type": "code",
      "metadata": {
        "colab": {
          "base_uri": "https://localhost:8080/"
        },
        "id": "F8Et_2-rzbmY",
        "outputId": "74c9d80e-c723-4dd1-d74a-4513213c5b3d"
      },
      "source": [
        "tuner.search(train_generator,validation_data=validation_generator,epochs=3)"
      ],
      "execution_count": 9,
      "outputs": [
        {
          "output_type": "stream",
          "text": [
            "Trial 10 Complete [00h 02m 33s]\n",
            "val_acc: 0.37612614035606384\n",
            "\n",
            "Best val_acc So Far: 0.3941441476345062\n",
            "Total elapsed time: 00h 27m 56s\n",
            "INFO:tensorflow:Oracle triggered exit\n"
          ],
          "name": "stdout"
        }
      ]
    },
    {
      "cell_type": "markdown",
      "metadata": {
        "id": "Z-wHR9dxQbOv"
      },
      "source": [
        "    파라미터 튜닝 후 Validation Accurate(검증정확도) : 37.61%"
      ]
    },
    {
      "cell_type": "markdown",
      "metadata": {
        "id": "xGxplpzOQvTv"
      },
      "source": [
        "    튜닝 후 더 낮아진 정확도를 보였다.\n",
        "    여러번 시도해보다가 더이상의 튜닝을 진행할 수 없어 처음 만든 모델로 교차검증을 시행했다."
      ]
    },
    {
      "cell_type": "markdown",
      "metadata": {
        "id": "t0_zUFsuPaCs"
      },
      "source": [
        "#### **4. 교차검증 : K-fold(5-fold)**"
      ]
    },
    {
      "cell_type": "code",
      "metadata": {
        "colab": {
          "base_uri": "https://localhost:8080/"
        },
        "cellView": "form",
        "id": "J-rxgSnbTg5j",
        "outputId": "c66de212-2c29-49a9-a0a7-1664bffba963"
      },
      "source": [
        "#@title\n",
        "DATA_DIR = \"/content/drive/MyDrive/Study/AI Bootcamp/data/[Project1]Skin cancer ISIC The International Skin Imaging Collaboration\"\n",
        "df_datagen  = ImageDataGenerator(rescale = 1./255)\n",
        "df_generator = df_datagen.flow_from_directory(\n",
        "    DATA_DIR,\n",
        "    target_size=(224,224),\n",
        "    class_mode='categorical',\n",
        "    batch_size= 64\n",
        ")"
      ],
      "execution_count": 26,
      "outputs": [
        {
          "output_type": "stream",
          "text": [
            "Found 2322 images belonging to 3 classes.\n"
          ],
          "name": "stdout"
        }
      ]
    },
    {
      "cell_type": "code",
      "metadata": {
        "colab": {
          "base_uri": "https://localhost:8080/"
        },
        "cellView": "form",
        "id": "d9KzLabfPdw7",
        "outputId": "36441e4c-5ee7-41e9-e76d-a6c7486dcfdd"
      },
      "source": [
        "#@title\n",
        "from sklearn.model_selection import KFold\n",
        "\n",
        "kf = KFold(n_splits = 5, shuffle = True)\n",
        "\n",
        "for trian, test in kf.split(df_generator) :\n",
        "    TRAINING_DIR = \"/content/drive/MyDrive/Study/AI Bootcamp/data/[Project1]Skin cancer ISIC The International Skin Imaging Collaboration/Train\"\n",
        "    training_datagen = ImageDataGenerator(rescale = 1./255, # 이미지 크기 조정 (정규화)\n",
        "                                      validation_split = 0.2,  \n",
        "                                      rotation_range=5, # 0도와 5도 사이의 랜덤한 각도로 회전\n",
        "                                      width_shift_range=0.2, # 수평으로 랜덤 이동\n",
        "                                      height_shift_range=0.2, # 수직으로 랜덤 이동\n",
        "                                      shear_range=0.2, # 시계 반대 방향으로 변형\n",
        "                                      zoom_range=0.2, # 확대/축소\n",
        "                                      horizontal_flip=True, # 수평으로 뒤집기\n",
        "                                      fill_mode='nearest') # 생성되는 빈 공간을 가장 가까운 색으로 채우기\n",
        "\n",
        "    train_generator = training_datagen.flow_from_directory(\n",
        "        TRAINING_DIR,\n",
        "        target_size=(224,224),\n",
        "        class_mode='categorical', # 다중 클래스\n",
        "        batch_size = 64\n",
        "    )\n",
        "\n",
        "    # Validation Data\n",
        "    VALIDATION_DIR = \"/content/drive/MyDrive/Study/AI Bootcamp/data/[Project1]Skin cancer ISIC The International Skin Imaging Collaboration/Validation\"\n",
        "    validation_datagen = ImageDataGenerator(rescale = 1./255)\n",
        "\n",
        "    validation_generator = validation_datagen.flow_from_directory(\n",
        "        VALIDATION_DIR,\n",
        "        target_size=(224,224),\n",
        "        class_mode='categorical',\n",
        "        batch_size= 64\n",
        "    )\n",
        "\n",
        "    # Test Data\n",
        "    TEST_DIR = \"/content/drive/MyDrive/Study/AI Bootcamp/data/[Project1]Skin cancer ISIC The International Skin Imaging Collaboration/Test\"\n",
        "    test_datagen  = ImageDataGenerator(rescale = 1./255)\n",
        "\n",
        "    test_generator = test_datagen.flow_from_directory(\n",
        "        TEST_DIR,\n",
        "        target_size=(224,224),\n",
        "        class_mode='categorical',\n",
        "        batch_size= 64\n",
        "    )\n",
        "\n",
        "    model_base.compile(loss='categorical_crossentropy',\n",
        "    optimizer= Adam(learning_rate=0.001),\n",
        "    metrics=['acc'])\n",
        "\n",
        "    model_base.fit(\n",
        "    train_generator,\n",
        "    validation_data = validation_generator,\n",
        "    epochs = 30,\n",
        "    batch_size = 32,\n",
        "    verbose = 1,\n",
        "    callbacks=EarlyStopping(monitor='val_loss', verbose=1, patience=5)\n",
        ")"
      ],
      "execution_count": 27,
      "outputs": [
        {
          "output_type": "stream",
          "text": [
            "Found 1760 images belonging to 9 classes.\n",
            "Found 444 images belonging to 9 classes.\n",
            "Found 118 images belonging to 9 classes.\n",
            "Epoch 1/30\n",
            "28/28 [==============================] - 50s 2s/step - loss: 1.5553 - acc: 0.4420 - val_loss: 1.8417 - val_acc: 0.4392\n",
            "Epoch 2/30\n",
            "28/28 [==============================] - 49s 2s/step - loss: 1.3382 - acc: 0.5205 - val_loss: 1.8610 - val_acc: 0.4685\n",
            "Epoch 3/30\n",
            "28/28 [==============================] - 48s 2s/step - loss: 1.2808 - acc: 0.5318 - val_loss: 1.7145 - val_acc: 0.4662\n",
            "Epoch 4/30\n",
            "28/28 [==============================] - 50s 2s/step - loss: 1.3121 - acc: 0.5312 - val_loss: 1.7322 - val_acc: 0.5068\n",
            "Epoch 5/30\n",
            "28/28 [==============================] - 48s 2s/step - loss: 1.2986 - acc: 0.5273 - val_loss: 1.7851 - val_acc: 0.4279\n",
            "Epoch 6/30\n",
            "28/28 [==============================] - 48s 2s/step - loss: 1.2653 - acc: 0.5466 - val_loss: 1.7176 - val_acc: 0.5068\n",
            "Epoch 7/30\n",
            "28/28 [==============================] - 49s 2s/step - loss: 1.1946 - acc: 0.5705 - val_loss: 1.8068 - val_acc: 0.5045\n",
            "Epoch 8/30\n",
            "28/28 [==============================] - 48s 2s/step - loss: 1.1873 - acc: 0.5778 - val_loss: 1.6812 - val_acc: 0.5068\n",
            "Epoch 9/30\n",
            "28/28 [==============================] - 47s 2s/step - loss: 1.1624 - acc: 0.5756 - val_loss: 1.7209 - val_acc: 0.4955\n",
            "Epoch 10/30\n",
            "28/28 [==============================] - 48s 2s/step - loss: 1.1858 - acc: 0.5670 - val_loss: 1.7619 - val_acc: 0.5000\n",
            "Epoch 11/30\n",
            "28/28 [==============================] - 49s 2s/step - loss: 1.1651 - acc: 0.5705 - val_loss: 1.6930 - val_acc: 0.5248\n",
            "Epoch 12/30\n",
            "28/28 [==============================] - 48s 2s/step - loss: 1.1435 - acc: 0.5784 - val_loss: 1.6700 - val_acc: 0.5158\n",
            "Epoch 13/30\n",
            "28/28 [==============================] - 49s 2s/step - loss: 1.1318 - acc: 0.5909 - val_loss: 1.7952 - val_acc: 0.5360\n",
            "Epoch 14/30\n",
            "28/28 [==============================] - 48s 2s/step - loss: 1.1663 - acc: 0.5722 - val_loss: 1.7376 - val_acc: 0.5360\n",
            "Epoch 15/30\n",
            "28/28 [==============================] - 47s 2s/step - loss: 1.1341 - acc: 0.5778 - val_loss: 1.7183 - val_acc: 0.5473\n",
            "Epoch 16/30\n",
            "28/28 [==============================] - 49s 2s/step - loss: 1.1235 - acc: 0.5892 - val_loss: 1.7411 - val_acc: 0.5225\n",
            "Epoch 17/30\n",
            "28/28 [==============================] - 49s 2s/step - loss: 1.1555 - acc: 0.5619 - val_loss: 1.8011 - val_acc: 0.4887\n",
            "Epoch 00017: early stopping\n",
            "Found 1760 images belonging to 9 classes.\n",
            "Found 444 images belonging to 9 classes.\n",
            "Found 118 images belonging to 9 classes.\n",
            "Epoch 1/30\n",
            "28/28 [==============================] - 50s 2s/step - loss: 1.1836 - acc: 0.5710 - val_loss: 1.7340 - val_acc: 0.5270\n",
            "Epoch 2/30\n",
            "28/28 [==============================] - 49s 2s/step - loss: 1.0885 - acc: 0.5841 - val_loss: 1.6841 - val_acc: 0.5428\n",
            "Epoch 3/30\n",
            "28/28 [==============================] - 48s 2s/step - loss: 1.1193 - acc: 0.5773 - val_loss: 1.8104 - val_acc: 0.4842\n",
            "Epoch 4/30\n",
            "28/28 [==============================] - 48s 2s/step - loss: 1.1189 - acc: 0.5841 - val_loss: 1.8736 - val_acc: 0.5113\n",
            "Epoch 5/30\n",
            "28/28 [==============================] - 49s 2s/step - loss: 1.0395 - acc: 0.6097 - val_loss: 2.0642 - val_acc: 0.5383\n",
            "Epoch 6/30\n",
            "28/28 [==============================] - 49s 2s/step - loss: 1.0500 - acc: 0.6125 - val_loss: 1.9040 - val_acc: 0.5068\n",
            "Epoch 7/30\n",
            "28/28 [==============================] - 49s 2s/step - loss: 1.0744 - acc: 0.6028 - val_loss: 1.8485 - val_acc: 0.5023\n",
            "Epoch 00007: early stopping\n",
            "Found 1760 images belonging to 9 classes.\n",
            "Found 444 images belonging to 9 classes.\n",
            "Found 118 images belonging to 9 classes.\n",
            "Epoch 1/30\n",
            "28/28 [==============================] - 50s 2s/step - loss: 1.1306 - acc: 0.5847 - val_loss: 1.7783 - val_acc: 0.4887\n",
            "Epoch 2/30\n",
            "28/28 [==============================] - 48s 2s/step - loss: 1.0160 - acc: 0.6347 - val_loss: 1.9932 - val_acc: 0.4977\n",
            "Epoch 3/30\n",
            "28/28 [==============================] - 48s 2s/step - loss: 1.0109 - acc: 0.6199 - val_loss: 1.8951 - val_acc: 0.5158\n",
            "Epoch 4/30\n",
            "28/28 [==============================] - 49s 2s/step - loss: 0.9691 - acc: 0.6528 - val_loss: 1.8606 - val_acc: 0.5113\n",
            "Epoch 5/30\n",
            "28/28 [==============================] - 48s 2s/step - loss: 0.9594 - acc: 0.6540 - val_loss: 1.7655 - val_acc: 0.5090\n",
            "Epoch 6/30\n",
            "28/28 [==============================] - 48s 2s/step - loss: 0.9928 - acc: 0.6313 - val_loss: 1.7367 - val_acc: 0.5428\n",
            "Epoch 7/30\n",
            "28/28 [==============================] - 50s 2s/step - loss: 1.0034 - acc: 0.6136 - val_loss: 1.7941 - val_acc: 0.5045\n",
            "Epoch 8/30\n",
            "28/28 [==============================] - 47s 2s/step - loss: 0.9880 - acc: 0.6313 - val_loss: 1.7816 - val_acc: 0.4775\n",
            "Epoch 9/30\n",
            "28/28 [==============================] - 48s 2s/step - loss: 0.9690 - acc: 0.6369 - val_loss: 1.8123 - val_acc: 0.5000\n",
            "Epoch 10/30\n",
            "28/28 [==============================] - 49s 2s/step - loss: 0.9638 - acc: 0.6335 - val_loss: 1.7174 - val_acc: 0.5225\n",
            "Epoch 11/30\n",
            "28/28 [==============================] - 48s 2s/step - loss: 0.9393 - acc: 0.6483 - val_loss: 1.8037 - val_acc: 0.5428\n",
            "Epoch 12/30\n",
            "28/28 [==============================] - 48s 2s/step - loss: 0.9358 - acc: 0.6420 - val_loss: 2.0271 - val_acc: 0.4842\n",
            "Epoch 13/30\n",
            "28/28 [==============================] - 50s 2s/step - loss: 0.9490 - acc: 0.6335 - val_loss: 1.9946 - val_acc: 0.4910\n",
            "Epoch 14/30\n",
            "28/28 [==============================] - 48s 2s/step - loss: 0.9059 - acc: 0.6653 - val_loss: 1.7987 - val_acc: 0.5225\n",
            "Epoch 15/30\n",
            "28/28 [==============================] - 49s 2s/step - loss: 0.8534 - acc: 0.6739 - val_loss: 1.8853 - val_acc: 0.5586\n",
            "Epoch 00015: early stopping\n",
            "Found 1760 images belonging to 9 classes.\n",
            "Found 444 images belonging to 9 classes.\n",
            "Found 118 images belonging to 9 classes.\n",
            "Epoch 1/30\n",
            "28/28 [==============================] - 50s 2s/step - loss: 1.0660 - acc: 0.6222 - val_loss: 1.8643 - val_acc: 0.5270\n",
            "Epoch 2/30\n",
            "28/28 [==============================] - 47s 2s/step - loss: 0.8929 - acc: 0.6580 - val_loss: 1.9854 - val_acc: 0.4820\n",
            "Epoch 3/30\n",
            "28/28 [==============================] - 48s 2s/step - loss: 0.9047 - acc: 0.6523 - val_loss: 1.9379 - val_acc: 0.5270\n",
            "Epoch 4/30\n",
            "28/28 [==============================] - 49s 2s/step - loss: 0.8896 - acc: 0.6545 - val_loss: 1.8726 - val_acc: 0.5293\n",
            "Epoch 5/30\n",
            "28/28 [==============================] - 48s 2s/step - loss: 0.8831 - acc: 0.6562 - val_loss: 2.0550 - val_acc: 0.5225\n",
            "Epoch 6/30\n",
            "28/28 [==============================] - 49s 2s/step - loss: 0.8516 - acc: 0.6716 - val_loss: 1.7919 - val_acc: 0.5383\n",
            "Epoch 7/30\n",
            "28/28 [==============================] - 49s 2s/step - loss: 0.8504 - acc: 0.6778 - val_loss: 2.0180 - val_acc: 0.5293\n",
            "Epoch 8/30\n",
            "28/28 [==============================] - 47s 2s/step - loss: 0.8142 - acc: 0.6903 - val_loss: 1.8726 - val_acc: 0.5023\n",
            "Epoch 9/30\n",
            "28/28 [==============================] - 48s 2s/step - loss: 0.8444 - acc: 0.6932 - val_loss: 1.9401 - val_acc: 0.5270\n",
            "Epoch 10/30\n",
            "28/28 [==============================] - 48s 2s/step - loss: 0.8461 - acc: 0.6739 - val_loss: 1.9718 - val_acc: 0.4550\n",
            "Epoch 11/30\n",
            "28/28 [==============================] - 48s 2s/step - loss: 0.8213 - acc: 0.6920 - val_loss: 1.9788 - val_acc: 0.5000\n",
            "Epoch 00011: early stopping\n",
            "Found 1760 images belonging to 9 classes.\n",
            "Found 444 images belonging to 9 classes.\n",
            "Found 118 images belonging to 9 classes.\n",
            "Epoch 1/30\n",
            "28/28 [==============================] - 51s 2s/step - loss: 0.9220 - acc: 0.6438 - val_loss: 2.0087 - val_acc: 0.5270\n",
            "Epoch 2/30\n",
            "28/28 [==============================] - 49s 2s/step - loss: 0.8007 - acc: 0.6898 - val_loss: 1.9597 - val_acc: 0.5315\n",
            "Epoch 3/30\n",
            "28/28 [==============================] - 49s 2s/step - loss: 0.7848 - acc: 0.6875 - val_loss: 1.9256 - val_acc: 0.5203\n",
            "Epoch 4/30\n",
            "28/28 [==============================] - 48s 2s/step - loss: 0.7580 - acc: 0.7034 - val_loss: 2.1156 - val_acc: 0.4820\n",
            "Epoch 5/30\n",
            "28/28 [==============================] - 48s 2s/step - loss: 0.7663 - acc: 0.6972 - val_loss: 1.9538 - val_acc: 0.4887\n",
            "Epoch 6/30\n",
            "28/28 [==============================] - 49s 2s/step - loss: 0.7859 - acc: 0.7091 - val_loss: 2.1116 - val_acc: 0.4595\n",
            "Epoch 7/30\n",
            "28/28 [==============================] - 49s 2s/step - loss: 0.7817 - acc: 0.7040 - val_loss: 1.9136 - val_acc: 0.4910\n",
            "Epoch 8/30\n",
            "28/28 [==============================] - 49s 2s/step - loss: 0.7518 - acc: 0.7119 - val_loss: 2.4986 - val_acc: 0.5225\n",
            "Epoch 9/30\n",
            "28/28 [==============================] - 48s 2s/step - loss: 0.7404 - acc: 0.7176 - val_loss: 2.0969 - val_acc: 0.5113\n",
            "Epoch 10/30\n",
            "28/28 [==============================] - 47s 2s/step - loss: 0.7275 - acc: 0.7210 - val_loss: 2.1798 - val_acc: 0.4955\n",
            "Epoch 11/30\n",
            "28/28 [==============================] - 48s 2s/step - loss: 0.7478 - acc: 0.7188 - val_loss: 2.3610 - val_acc: 0.4009\n",
            "Epoch 12/30\n",
            "28/28 [==============================] - 49s 2s/step - loss: 0.7589 - acc: 0.7153 - val_loss: 2.3761 - val_acc: 0.4820\n",
            "Epoch 00012: early stopping\n"
          ],
          "name": "stdout"
        }
      ]
    },
    {
      "cell_type": "code",
      "metadata": {
        "colab": {
          "base_uri": "https://localhost:8080/"
        },
        "id": "mnVNYwZmQEkM",
        "outputId": "f5890231-c916-4e96-bf64-a5635f10a30d"
      },
      "source": [
        "model_base.evaluate(test_generator, verbose=1)"
      ],
      "execution_count": 29,
      "outputs": [
        {
          "output_type": "stream",
          "text": [
            "2/2 [==============================] - 39s 35s/step - loss: 3.9723 - acc: 0.4576\n"
          ],
          "name": "stdout"
        },
        {
          "output_type": "execute_result",
          "data": {
            "text/plain": [
              "[3.9723472595214844, 0.4576271176338196]"
            ]
          },
          "metadata": {
            "tags": []
          },
          "execution_count": 29
        }
      ]
    },
    {
      "cell_type": "markdown",
      "metadata": {
        "id": "OVStHfncfuQ1"
      },
      "source": [
        "    테스트 데이터의 예측 정확도 : 45.76%"
      ]
    },
    {
      "cell_type": "markdown",
      "metadata": {
        "id": "haCUlCvyQI0i"
      },
      "source": [
        "#### **5. 결과 시각화 및 해석**"
      ]
    },
    {
      "cell_type": "code",
      "metadata": {
        "colab": {
          "base_uri": "https://localhost:8080/",
          "height": 370
        },
        "id": "vXILklNzQIV9",
        "outputId": "78ebae0d-fecb-4775-cc9f-79c8ddebaa98"
      },
      "source": [
        "import matplotlib.pyplot as plt\n",
        "\n",
        "def Train_Val_Plot(acc,val_acc,loss,val_loss):\n",
        "\n",
        "    fig, (ax1, ax2) = plt.subplots(1,2, figsize= (20,5))\n",
        "    fig.suptitle(\" MODEL'S METRICS VISUALIZATION \")\n",
        "\n",
        "    ax1.plot(range(1, len(acc) + 1), acc)\n",
        "    ax1.plot(range(1, len(val_acc) + 1), val_acc)\n",
        "    ax1.set_title('History of Accuracy')\n",
        "    ax1.set_xlabel('Epochs')\n",
        "    ax1.set_ylabel('Accuracy')\n",
        "    ax1.legend(['training', 'validation'])\n",
        "\n",
        "\n",
        "    ax2.plot(range(1, len(loss) + 1), loss)\n",
        "    ax2.plot(range(1, len(val_loss) + 1), val_loss)\n",
        "    ax2.set_title('History of Loss')\n",
        "    ax2.set_xlabel('Epochs')\n",
        "    ax2.set_ylabel('Loss')\n",
        "    ax2.legend(['training', 'validation'])\n",
        "\n",
        "    plt.show()\n",
        "    \n",
        "\n",
        "Train_Val_Plot(history.history['acc'],history.history['val_acc'],\n",
        "               history.history['loss'],history.history['val_loss'],\n",
        "              )"
      ],
      "execution_count": 31,
      "outputs": [
        {
          "output_type": "display_data",
          "data": {
            "image/png": "[encoded data removed]",
            "text/plain": [
              "<Figure size 1440x360 with 2 Axes>"
            ]
          },
          "metadata": {
            "tags": [],
            "needs_background": "light"
          }
        }
      ]
    },
    {
      "cell_type": "markdown",
      "metadata": {
        "id": "gzPWKquMQLli"
      },
      "source": [
        "#### **6. 결론**\n",
        "* 테스트 데이터 정확도가 45.76%인 피부 종양 분류 모델이 생성되었다."
      ]
    },
    {
      "cell_type": "markdown",
      "metadata": {
        "id": "Z9DN9zdHBYgr"
      },
      "source": [
        "##### **7. 한계점**\n",
        "\n",
        "* 모델을 CNN 하나로만 사용하였고 다른 모델과 비교해보지 못했다.\n",
        "* 하이퍼 파라미터 튜닝을 하여 모델의 정확도가 더 낮아졌으며 이 점을 개선하지 못했다.\n",
        "* 하이퍼 파라미터를 통해서 왜 성능을 높이지 못했는지에 대한 추가 연구가 더 필요하다.\n",
        "* 종합적으로, 이전 섹션의 프로젝트에서 피드백을 많이 반영하지 못하였고 더 나은 성능의 모델을 만들지 못했습니다.\n"
      ]
    }
  ]
}